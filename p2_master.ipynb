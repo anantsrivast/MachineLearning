{
 "metadata": {
  "kernelspec": {
   "display_name": "Python 2",
   "language": "python",
   "name": "python2"
  },
  "language_info": {
   "codemirror_mode": {
    "name": "ipython",
    "version": 2
   },
   "file_extension": ".py",
   "mimetype": "text/x-python",
   "name": "python",
   "nbconvert_exporter": "python",
   "pygments_lexer": "ipython2",
   "version": "2.7.6"
  },
  "name": "",
  "signature": "sha256:90200d1449a65652d2840c4a23a86ba1dd42d657497c020c9545084033c25858"
 },
 "nbformat": 3,
 "nbformat_minor": 0,
 "worksheets": [
  {
   "cells": [
    {
     "cell_type": "heading",
     "level": 1,
     "metadata": {},
     "source": [
      "Project 2: Topic Classification"
     ]
    },
    {
     "cell_type": "markdown",
     "metadata": {},
     "source": [
      "In this project, you'll work with text data from newsgroup postings on a variety of topics. You'll train classifiers to distinguish between the topics based on the text of the posts. Whereas with digit classification, the input is relatively dense: a 28x28 matrix of pixels, many of which are non-zero, here we'll represent each document with a \"bag-of-words\" model. As you'll see, this makes the feature representation quite sparse -- only a few words of the total vocabulary are active in any given document. The bag-of-words assumption here is that the label depends only on the words; their order is not important.\n",
      "\n",
      "The SK-learn documentation on feature extraction will prove useful:\n",
      "http://scikit-learn.org/stable/modules/feature_extraction.html\n",
      "\n",
      "Each problem can be addressed succinctly with the included packages -- please don't add any more. Grading will be based on writing clean, commented code, along with a few short answers.\n",
      "\n",
      "As always, you're welcome to work on the project in groups and discuss ideas on the course wall, but please prepare your own write-up and write your own code."
     ]
    },
    {
     "cell_type": "code",
     "collapsed": false,
     "input": [
      "# This tells matplotlib not to try opening a new window for each plot.\n",
      "%matplotlib inline\n",
      "\n",
      "# General libraries.\n",
      "import re\n",
      "import numpy as np\n",
      "import matplotlib.pyplot as plt\n",
      "\n",
      "# SK-learn libraries for learning.\n",
      "from sklearn.pipeline import Pipeline\n",
      "from sklearn.neighbors import KNeighborsClassifier\n",
      "from sklearn.linear_model import LogisticRegression\n",
      "from sklearn.naive_bayes import BernoulliNB\n",
      "from sklearn.naive_bayes import MultinomialNB\n",
      "from sklearn.grid_search import GridSearchCV\n",
      "\n",
      "# SK-learn libraries for evaluation.\n",
      "from sklearn.metrics import confusion_matrix\n",
      "from sklearn import metrics\n",
      "from sklearn.metrics import classification_report\n",
      "\n",
      "# SK-learn library for importing the newsgroup data.\n",
      "from sklearn.datasets import fetch_20newsgroups\n",
      "\n",
      "# SK-learn libraries for feature extraction from text.\n",
      "from sklearn.feature_extraction.text import *"
     ],
     "language": "python",
     "metadata": {},
     "outputs": [],
     "prompt_number": 1
    },
    {
     "cell_type": "markdown",
     "metadata": {},
     "source": [
      "Load the data, stripping out metadata so that we learn classifiers that only use textual features. By default, newsgroups data is split into train and test sets. We further split the test so we have a dev set. Note that we specify 4 categories to use for this project. If you remove the categories argument from the fetch function, you'll get all 20 categories."
     ]
    },
    {
     "cell_type": "code",
     "collapsed": false,
     "input": [
      "categories = ['alt.atheism', 'talk.religion.misc', 'comp.graphics', 'sci.space']\n",
      "newsgroups_train = fetch_20newsgroups(subset='train',\n",
      "                                      remove=('headers', 'footers', 'quotes'),\n",
      "                                      categories=categories)\n",
      "newsgroups_test = fetch_20newsgroups(subset='test',\n",
      "                                     remove=('headers', 'footers', 'quotes'),\n",
      "                                     categories=categories)\n",
      "\n",
      "num_test = len(newsgroups_test.target)\n",
      "test_data, test_labels = newsgroups_test.data[num_test/2:], newsgroups_test.target[num_test/2:]\n",
      "dev_data, dev_labels = newsgroups_test.data[:num_test/2], newsgroups_test.target[:num_test/2]\n",
      "train_data, train_labels = newsgroups_train.data, newsgroups_train.target\n",
      "\n",
      "print 'training label shape:', train_labels.shape\n",
      "print 'test label shape:', test_labels.shape\n",
      "print 'dev label shape:', dev_labels.shape\n",
      "print 'labels names:', newsgroups_train.target_names\n"
     ],
     "language": "python",
     "metadata": {},
     "outputs": [
      {
       "output_type": "stream",
       "stream": "stdout",
       "text": [
        "training label shape: (2034,)\n",
        "test label shape: (677,)\n",
        "dev label shape: (676,)\n",
        "labels names: ['alt.atheism', 'comp.graphics', 'sci.space', 'talk.religion.misc']\n",
        "labels names: ['alt.atheism', 'comp.graphics', 'sci.space', 'talk.religion.misc']\n"
       ]
      }
     ],
     "prompt_number": 475
    },
    {
     "cell_type": "markdown",
     "metadata": {},
     "source": [
      "(1) For each of the first 5 training examples, print the text of the message along with the label."
     ]
    },
    {
     "cell_type": "code",
     "collapsed": false,
     "input": [
      "def P1(num_examples=5):\n",
      "### STUDENT START ###\n",
      "    for i in range(5):\n",
      "        print newsgroups_train.target_names[train_labels[i]],':',train_data[i]\n",
      "### STUDENT END ###\n",
      "P1(2)"
     ],
     "language": "python",
     "metadata": {},
     "outputs": [
      {
       "output_type": "stream",
       "stream": "stdout",
       "text": [
        "comp.graphics : Hi,\n",
        "\n",
        "I've noticed that if you only save a model (with all your mapping planes\n",
        "positioned carefully) to a .3DS file that when you reload it after restarting\n",
        "3DS, they are given a default position and orientation.  But if you save\n",
        "to a .PRJ file their positions/orientation are preserved.  Does anyone\n",
        "know why this information is not stored in the .3DS file?  Nothing is\n",
        "explicitly said in the manual about saving texture rules in the .PRJ file. \n",
        "I'd like to be able to read the texture rule information, does anyone have \n",
        "the format for the .PRJ file?\n",
        "\n",
        "Is the .CEL file format available from somewhere?\n",
        "\n",
        "Rych\n",
        "talk.religion.misc : \n",
        "\n",
        "Seems to be, barring evidence to the contrary, that Koresh was simply\n",
        "another deranged fanatic who thought it neccessary to take a whole bunch of\n",
        "folks with him, children and all, to satisfy his delusional mania. Jim\n",
        "Jones, circa 1993.\n",
        "\n",
        "\n",
        "Nope - fruitcakes like Koresh have been demonstrating such evil corruption\n",
        "for centuries.\n",
        "sci.space : \n",
        " >In article <1993Apr19.020359.26996@sq.sq.com>, msb@sq.sq.com (Mark Brader) \n",
        "\n",
        "MB>                                                             So the\n",
        "MB> 1970 figure seems unlikely to actually be anything but a perijove.\n",
        "\n",
        "JG>Sorry, _perijoves_...I'm not used to talking this language.\n",
        "\n",
        "Couldn't we just say periapsis or apoapsis?\n",
        "\n",
        " \n",
        "alt.atheism : I have a request for those who would like to see Charley Wingate\n",
        "respond to the \"Charley Challenges\" (and judging from my e-mail, there\n",
        "appear to be quite a few of you.)  \n",
        "\n",
        "It is clear that Mr. Wingate intends to continue to post tangential or\n",
        "unrelated articles while ingoring the Challenges themselves.  Between\n",
        "the last two re-postings of the Challenges, I noted perhaps a dozen or\n",
        "more posts by Mr. Wingate, none of which answered a single Challenge.  \n",
        "\n",
        "It seems unmistakable to me that Mr. Wingate hopes that the questions\n",
        "will just go away, and he is doing his level best to change the\n",
        "subject.  Given that this seems a rather common net.theist tactic, I\n",
        "would like to suggest that we impress upon him our desire for answers,\n",
        "in the following manner:\n",
        "\n",
        "1. Ignore any future articles by Mr. Wingate that do not address the\n",
        "Challenges, until he answers them or explictly announces that he\n",
        "refuses to do so.\n",
        "\n",
        "--or--\n",
        "\n",
        "2. If you must respond to one of his articles, include within it\n",
        "something similar to the following:\n",
        "\n",
        "    \"Please answer the questions posed to you in the Charley Challenges.\"\n",
        "\n",
        "Really, I'm not looking to humiliate anyone here, I just want some\n",
        "honest answers.  You wouldn't think that honesty would be too much to\n",
        "ask from a devout Christian, would you?  \n",
        "\n",
        "Nevermind, that was a rhetorical question.\n",
        "sci.space : AW&ST  had a brief blurb on a Manned Lunar Exploration confernce\n",
        "May 7th  at Crystal City Virginia, under the auspices of AIAA.\n",
        "\n",
        "Does anyone know more about this?  How much, to attend????\n",
        "\n",
        "Anyone want to go?\n"
       ]
      }
     ],
     "prompt_number": 513
    },
    {
     "cell_type": "markdown",
     "metadata": {},
     "source": [
      "(2) Use CountVectorizer to turn the raw training text into feature vectors. You should use the fit_transform function, which makes 2 passes through the data: first it computes the vocabulary (\"fit\"), second it converts the raw text into feature vectors using the vocabulary (\"transform\").\n",
      "\n",
      "The vectorizer has a lot of options. To get familiar with some of them, write code to answer these questions:\n",
      "\n",
      "a. The output of the transform (also of fit_transform) is a sparse matrix: http://docs.scipy.org/doc/scipy-0.14.0/reference/generated/scipy.sparse.csr_matrix.html. What is the size of the vocabulary? What is the average number of non-zero features per example? What fraction of the entries in the matrix are non-zero? Hint: use \"nnz\" and \"shape\" attributes.\n",
      "\n",
      "b. What are the 0th and last feature strings (in alphabetical order)? Hint: use the vectorizer's get_feature_names function.\n",
      "\n",
      "c. Specify your own vocabulary with 4 words: [\"atheism\", \"graphics\", \"space\", \"religion\"]. Confirm the training vectors are appropriately shaped. Now what's the average number of non-zero features per example?\n",
      "\n",
      "d. Instead of extracting unigram word features, use \"analyzer\" and \"ngram_range\" to extract bigram and trigram character features. What size vocabulary does this yield?\n",
      "\n",
      "e. Use the \"min_df\" argument to prune words that appear in fewer than 10 documents. What size vocabulary does this yield?\n",
      "\n",
      "f. Using the standard CountVectorizer, what fraction of the words in the dev data are missing from the vocabulary? Hint: build a vocabulary for both train and dev and look at the size of the difference."
     ]
    },
    {
     "cell_type": "code",
     "collapsed": false,
     "input": [
      "def P2():\n",
      "### STUDENT START ###\n",
      "    y=CountVectorizer()\n",
      "    z=y.fit_transform(train_data)\n",
      "    \n",
      "    print \"Answer a\"\n",
      "    print \"size of vocabulary is {0}\".format(z.shape[1])\n",
      "    print \"average number of non zero features per example is {0}\".format((z.nnz)/len(train_data))\n",
      "    print \"fraction of non zero entries {0}\".format(float(z.nnz)/float(len(train_data)*z.shape[1]))\n",
      "\n",
      "    print \"Answer b\"\n",
      "    l= y.get_feature_names()\n",
      "    print \"First feature {0}\".format(l[0].encode('ascii','ignore'))\n",
      "    print \"Last feature {0}\".format(l[len(l)-1].encode('ascii','ignore'))\n",
      "    \n",
      "    print \"Answer c\"\n",
      "    y11=CountVectorizer(vocabulary=([\"atheism\", \"graphics\", \"space\", \"religion\"]))\n",
      "    z11=y11.fit_transform(train_data)\n",
      "    print \"average number of non zero features per example is {0}\".format(float(z11.nnz)/len(train_data))\n",
      "     \n",
      "    print \"Answer d\"\n",
      "    y1=CountVectorizer(analyzer='char',ngram_range=(2,3))\n",
      "    z1=y1.fit_transform(train_data)\n",
      "    print \"size of vocabulary is {0}\".format(z1.shape[1]) \n",
      "    print \"Answer e\"\n",
      "    y2=CountVectorizer(min_df=10)\n",
      "    z2=y2.fit_transform(train_data)\n",
      "    print \"size of vocabulary with pruning is {0}\".format(z2.shape[1])\n",
      "    \n",
      "    print \"Answer f\"\n",
      "    ##Create a count vectorizer for dev data\n",
      "    y3=CountVectorizer()\n",
      "    z3=y3.fit_transform(dev_data)\n",
      "    print \"fraction of vocab in dev data is {0}\".format(float(z3.shape[1])/z.shape[1])\n",
      "    \n",
      "    \n",
      "\n",
      "### STUDENT END ###\n",
      "P2()"
     ],
     "language": "python",
     "metadata": {},
     "outputs": [
      {
       "output_type": "stream",
       "stream": "stdout",
       "text": [
        "Answer a\n",
        "size of vocabulary is 26879\n",
        "average number of non zero features per example is 96\n",
        "fraction of non zero entries 0.00359782722696\n",
        "Answer b\n",
        "First feature 00\n",
        "Last feature zyxel\n",
        "Answer c\n",
        "average number of non zero features per example is 0.268436578171"
       ]
      },
      {
       "output_type": "stream",
       "stream": "stdout",
       "text": [
        "\n",
        "Answer d\n",
        "size of vocabulary is 35478"
       ]
      },
      {
       "output_type": "stream",
       "stream": "stdout",
       "text": [
        "\n",
        "Answer e\n",
        "size of vocabulary with pruning is 3064"
       ]
      },
      {
       "output_type": "stream",
       "stream": "stdout",
       "text": [
        "\n",
        "Answer f\n",
        "fraction of vocab in dev data is 0.604412366531"
       ]
      },
      {
       "output_type": "stream",
       "stream": "stdout",
       "text": [
        "\n"
       ]
      }
     ],
     "prompt_number": 525
    },
    {
     "cell_type": "markdown",
     "metadata": {},
     "source": [
      "(3) Use the default CountVectorizer options and report the f1 score (use metrics.f1_score) for a k nearest neighbors classifier; find the optimal value for k. Also fit a Multinomial Naive Bayes model and find the optimal value for alpha. Finally, fit a logistic regression model and find the optimal value for the regularization strength C using l2 regularization. A few questions:\n",
      "\n",
      "a. Why doesn't nearest neighbors work well for this problem?\n",
      "\n",
      "b. Any ideas why logistic regression doesn't work as well as Naive Bayes?\n",
      "\n",
      "c. Logistic regression estimates a weight vector for each class, which you can access with the coef\\_ attribute. Output the sum of the squared weight values for each class for each setting of the C parameter. Briefly explain the relationship between the sum and the value of C."
     ]
    },
    {
     "cell_type": "code",
     "collapsed": false,
     "input": [
      "#This funcitons takes the parameters for each classifier as an input and passes those values onto GridSearchCV\n",
      "def P3(n,m,k):\n",
      "### STUDENT START ###\n",
      "    y=CountVectorizer()\n",
      "    y.fit(train_data)\n",
      "    z=y.transform(train_data)\n",
      "    z1=y.transform(dev_data)\n",
      "    #Initialize KNN and its params\n",
      "    clf1=KNeighborsClassifier()\n",
      "    params={'n_neighbors' :n}\n",
      "    \n",
      "    P33(clf1,params,z,z1,train_labels,dev_labels,typeX='KNN')\n",
      "    #Initialize Multinomial Naive Bayes and its params\n",
      "    clf2=MultinomialNB()\n",
      "    params={'alpha':m}\n",
      "    P33(clf2,params,z,z1,train_labels,dev_labels,typeX='MNB')\n",
      "    #Initialize Logistic Regression and its params\n",
      "    clf3=LogisticRegression() \n",
      "    params={'C':k}\n",
      "    P33(clf3,params,z,z1,train_labels,dev_labels,typeX='Logistic Regression')\n",
      "   \n",
      "    \n",
      "def P33(clf1,params,z,z1,train_labels,dev_labels,typeX):\n",
      "    \n",
      "    clf11=GridSearchCV(clf1,params)\n",
      "    clf11.fit(z,train_labels)\n",
      "    clfR1=metrics.f1_score(dev_labels,clf11.predict(z1))\n",
      "    print 'Algorithm={0}'.format(typeX)\n",
      "\n",
      "    print 'best value is {0}'.format(clf11.best_params_)\n",
      "    \n",
      "    print \"F1 score for {0}-{1}\".format(typeX,clfR1)\n",
      "    if typeX=='Logistic Regression':\n",
      "        # Here I will call P333 which would print out the squared weights for various values of C\n",
      "        print 'Answer c'\n",
      "        for i in params['C']:\n",
      "            \n",
      "            P333(z,z1,i)\n",
      "    \n",
      "def P333(z,z1,k):\n",
      "### STUDENT START ###\n",
      "    clf3=LogisticRegression(C=k)\n",
      "    clf3.fit(z,train_labels)\n",
      "    clfR3=metrics.f1_score(dev_labels,clf3.predict(z1))\n",
      "    #print \"Logit-{0}\".format(clfR3)\n",
      "    z=np.dot(clf3.coef_,clf3.coef_.T)\n",
      "    print 'For C={0}'.format(k)\n",
      "    print \"Class={0} and Squared Weights={1}\".format(clf3.classes_[0],z[0][0])\n",
      "    print \"Class={0} and Squared Weights={1}\".format(clf3.classes_[1],z[1][1])\n",
      "    print \"Class={0} and Squared Weights={1}\".format(clf3.classes_[2],z[2][2])\n",
      "    print \"Class={0} and Squared Weights={1}\".format(clf3.classes_[3],z[3][3])\n",
      "\n",
      "### STUDENT END ###\n",
      "\n",
      "P3([1,10,30,50,100,110],[0.001,0.01,0.1,0.5,2],[0.5,0.75,1,1.5,2])\n",
      "#   \n",
      "#P33()"
     ],
     "language": "python",
     "metadata": {},
     "outputs": [
      {
       "output_type": "stream",
       "stream": "stderr",
       "text": [
        "/Library/Frameworks/Python.framework/Versions/2.7/lib/python2.7/site-packages/sklearn/metrics/classification.py:676: DeprecationWarning: The default `weighted` averaging is deprecated, and from version 0.18, use of precision, recall or F-score with multiclass or multilabel data or pos_label=None will result in an exception. Please set an explicit value for `average`, one of (None, 'micro', 'macro', 'weighted', 'samples'). In cross validation use, for instance, scoring=\"f1_weighted\" instead of scoring=\"f1\".\n",
        "  sample_weight=sample_weight)\n",
        "/Library/Frameworks/Python.framework/Versions/2.7/lib/python2.7/site-packages/sklearn/metrics/classification.py:676: DeprecationWarning: The default `weighted` averaging is deprecated, and from version 0.18, use of precision, recall or F-score with multiclass or multilabel data or pos_label=None will result in an exception. Please set an explicit value for `average`, one of (None, 'micro', 'macro', 'weighted', 'samples'). In cross validation use, for instance, scoring=\"f1_weighted\" instead of scoring=\"f1\".\n",
        "  sample_weight=sample_weight)\n"
       ]
      },
      {
       "output_type": "stream",
       "stream": "stdout",
       "text": [
        "Algorithm=KNN\n",
        "best value is {'n_neighbors': 100}\n",
        "F1 score for KNN-0.442240033922\n",
        "Algorithm=MNB"
       ]
      },
      {
       "output_type": "stream",
       "stream": "stdout",
       "text": [
        "\n",
        "best value is {'alpha': 0.01}\n",
        "F1 score for MNB-0.775166321854\n",
        "Algorithm=Logistic Regression"
       ]
      },
      {
       "output_type": "stream",
       "stream": "stderr",
       "text": [
        "/Library/Frameworks/Python.framework/Versions/2.7/lib/python2.7/site-packages/sklearn/metrics/classification.py:676: DeprecationWarning: The default `weighted` averaging is deprecated, and from version 0.18, use of precision, recall or F-score with multiclass or multilabel data or pos_label=None will result in an exception. Please set an explicit value for `average`, one of (None, 'micro', 'macro', 'weighted', 'samples'). In cross validation use, for instance, scoring=\"f1_weighted\" instead of scoring=\"f1\".\n",
        "  sample_weight=sample_weight)\n",
        "/Library/Frameworks/Python.framework/Versions/2.7/lib/python2.7/site-packages/sklearn/metrics/classification.py:676: DeprecationWarning: The default `weighted` averaging is deprecated, and from version 0.18, use of precision, recall or F-score with multiclass or multilabel data or pos_label=None will result in an exception. Please set an explicit value for `average`, one of (None, 'micro', 'macro', 'weighted', 'samples'). In cross validation use, for instance, scoring=\"f1_weighted\" instead of scoring=\"f1\".\n",
        "  sample_weight=sample_weight)\n"
       ]
      },
      {
       "output_type": "stream",
       "stream": "stdout",
       "text": [
        "\n",
        "best value is {'C': 0.5}\n",
        "F1 score for Logistic Regression-0.708473977649\n",
        "Answer c\n",
        "For C=0.5"
       ]
      },
      {
       "output_type": "stream",
       "stream": "stdout",
       "text": [
        "\n",
        "Class=0 and Squared Weights=102.635600971\n",
        "Class=1 and Squared Weights=83.1252325161\n",
        "Class=2 and Squared Weights=99.0156152504\n",
        "Class=3 and Squared Weights=88.9972682512\n",
        "For C=0.75"
       ]
      },
      {
       "output_type": "stream",
       "stream": "stderr",
       "text": [
        "/Library/Frameworks/Python.framework/Versions/2.7/lib/python2.7/site-packages/sklearn/metrics/classification.py:676: DeprecationWarning: The default `weighted` averaging is deprecated, and from version 0.18, use of precision, recall or F-score with multiclass or multilabel data or pos_label=None will result in an exception. Please set an explicit value for `average`, one of (None, 'micro', 'macro', 'weighted', 'samples'). In cross validation use, for instance, scoring=\"f1_weighted\" instead of scoring=\"f1\".\n",
        "  sample_weight=sample_weight)\n",
        "/Library/Frameworks/Python.framework/Versions/2.7/lib/python2.7/site-packages/sklearn/metrics/classification.py:676: DeprecationWarning: The default `weighted` averaging is deprecated, and from version 0.18, use of precision, recall or F-score with multiclass or multilabel data or pos_label=None will result in an exception. Please set an explicit value for `average`, one of (None, 'micro', 'macro', 'weighted', 'samples'). In cross validation use, for instance, scoring=\"f1_weighted\" instead of scoring=\"f1\".\n",
        "  sample_weight=sample_weight)\n"
       ]
      },
      {
       "output_type": "stream",
       "stream": "stdout",
       "text": [
        "\n",
        "Class=0 and Squared Weights=137.334485494\n",
        "Class=1 and Squared Weights=108.956560321\n",
        "Class=2 and Squared Weights=131.020727183\n",
        "Class=3 and Squared Weights=119.517097368\n",
        "For C=1"
       ]
      },
      {
       "output_type": "stream",
       "stream": "stdout",
       "text": [
        "\n",
        "Class=0 and Squared Weights=166.961274833\n",
        "Class=1 and Squared Weights=130.908204884\n",
        "Class=2 and Squared Weights=157.997483434\n",
        "Class=3 and Squared Weights=145.735656912\n",
        "For C=1.5"
       ]
      },
      {
       "output_type": "stream",
       "stream": "stderr",
       "text": [
        "/Library/Frameworks/Python.framework/Versions/2.7/lib/python2.7/site-packages/sklearn/metrics/classification.py:676: DeprecationWarning: The default `weighted` averaging is deprecated, and from version 0.18, use of precision, recall or F-score with multiclass or multilabel data or pos_label=None will result in an exception. Please set an explicit value for `average`, one of (None, 'micro', 'macro', 'weighted', 'samples'). In cross validation use, for instance, scoring=\"f1_weighted\" instead of scoring=\"f1\".\n",
        "  sample_weight=sample_weight)\n",
        "/Library/Frameworks/Python.framework/Versions/2.7/lib/python2.7/site-packages/sklearn/metrics/classification.py:676: DeprecationWarning: The default `weighted` averaging is deprecated, and from version 0.18, use of precision, recall or F-score with multiclass or multilabel data or pos_label=None will result in an exception. Please set an explicit value for `average`, one of (None, 'micro', 'macro', 'weighted', 'samples'). In cross validation use, for instance, scoring=\"f1_weighted\" instead of scoring=\"f1\".\n",
        "  sample_weight=sample_weight)\n"
       ]
      },
      {
       "output_type": "stream",
       "stream": "stdout",
       "text": [
        "\n",
        "Class=0 and Squared Weights=216.510312734\n",
        "Class=1 and Squared Weights=167.575697954\n",
        "Class=2 and Squared Weights=202.863692842\n",
        "Class=3 and Squared Weights=189.786970777\n",
        "For C=2"
       ]
      },
      {
       "output_type": "stream",
       "stream": "stdout",
       "text": [
        "\n",
        "Class=0 and Squared Weights=257.606989947\n",
        "Class=1 and Squared Weights=197.806516774\n",
        "Class=2 and Squared Weights=239.857726179\n",
        "Class=3 and Squared Weights=226.615557131\n"
       ]
      }
     ],
     "prompt_number": 531
    },
    {
     "cell_type": "markdown",
     "metadata": {},
     "source": [
      "ANSWER:\n",
      "a. Nearest neigbor does not work so well for this case because it does not take the importance of each word present in the documents. It just gives equal weight to each of the words.\n",
      "b. Regression is not as great as Bayes here because the features are too many but the training set is small.\n",
      "c. See output above."
     ]
    },
    {
     "cell_type": "markdown",
     "metadata": {},
     "source": [
      "(4) Train a logistic regression model. Find the 5 features with the largest weights for each label -- 20 features in total. Create a table with 20 rows and 4 columns that shows the weight for each of these features for each of the labels. Create the table again with bigram features. Any surprising features in this table?"
     ]
    },
    {
     "cell_type": "code",
     "collapsed": false,
     "input": [
      "def P4():\n",
      "### STUDENT START ###\n",
      "    clf=LogisticRegression(C=0.5)\n",
      "    cvector=CountVectorizer()\n",
      "    transformVector=cvector.fit_transform(train_data)\n",
      "    clf.fit(transformVector,train_labels)\n",
      "    l= cvector.get_feature_names()\n",
      "    ##Find the 5 largest values in each row of coef_\n",
      "    sortWT= np.argpartition(clf.coef_, -5)[:,-5:]\n",
      "    \n",
      "    ## Let us print the names of those features here for each label\n",
      "    for i,j in enumerate(sortWT):\n",
      "        print \"label name-{0}\".format(newsgroups_train.target_names[i])\n",
      "        print \"top 5 are\"\n",
      "        for x in j:\n",
      "            print l[x]\n",
      "    output_matrix=np.take(clf.coef_, sortWT.flatten(), axis=1)\n",
      "    #print output_matrix.T\n",
      "    fig=plt.figure()\n",
      "    ax = fig.add_subplot(111)\n",
      "    ax.axis('off')\n",
      "    the_table = ax.table(cellText=output_matrix.T,loc='center',rowLabels=[l[i] for i in sortWT.flatten()])\n",
      "    plt.show()\n",
      "    \n",
      "    clf=LogisticRegression(C=0.5)\n",
      "    cvector=CountVectorizer(ngram_range=(2,2),analyzer='char_wb')\n",
      "    transformVector=cvector.fit_transform(train_data)\n",
      "    clf.fit(transformVector,train_labels)\n",
      "    l= cvector.get_feature_names()\n",
      "    ##Find the 5 largest values in each row of coef_\n",
      "    sortWT= np.argpartition(clf.coef_, -5)[:,-5:]\n",
      "    \n",
      "    ## Let us print the names of those features here for each label\n",
      "    for i,j in enumerate(sortWT):\n",
      "        print \"label name-{0}\".format(newsgroups_train.target_names[i])\n",
      "        for x in j:\n",
      "            print \"top 5 are {}\".format(unicode(l[x]))\n",
      "    output_matrix=np.take(clf.coef_, sortWT.flatten(), axis=1)\n",
      "    #print output_matrix.T\n",
      "    fig=plt.figure()\n",
      "    ax = fig.add_subplot(111)\n",
      "    ax.axis('off')\n",
      "    the_table = ax.table(cellText=output_matrix.T,loc='center',rowLabels=[l[i] for i in sortWT.flatten()])\n",
      "   \n",
      "    plt.show()\n",
      "    ###Doing the same thing for bigrams\n",
      "### STUDENT END ###\n",
      "P4()"
     ],
     "language": "python",
     "metadata": {},
     "outputs": [
      {
       "output_type": "stream",
       "stream": "stdout",
       "text": [
        "label name-alt.atheism\n",
        "top 5 are\n",
        "deletion\n",
        "bobby\n",
        "religion\n",
        "atheism\n",
        "atheists\n",
        "label name-comp.graphics\n",
        "top 5 are\n",
        "computer\n",
        "3d\n",
        "file\n",
        "image\n",
        "graphics\n",
        "label name-sci.space\n",
        "top 5 are\n",
        "spacecraft\n",
        "launch\n",
        "orbit\n",
        "nasa\n",
        "space\n",
        "label name-talk.religion.misc\n",
        "top 5 are\n",
        "order\n",
        "christians\n",
        "fbi\n",
        "blood\n",
        "christian\n"
       ]
      },
      {
       "metadata": {},
       "output_type": "display_data",
       "png": "[encoded data removed]",
       "text": [
        "<matplotlib.figure.Figure at 0x10bb580d0>"
       ]
      },
      {
       "output_type": "stream",
       "stream": "stdout",
       "text": [
        "label name-alt.atheism\n",
        "top 5 are gi\n",
        "top 5 are rl\n",
        "top 5 are vo\n",
        "top 5 are oh\n",
        "top 5 are ei\n",
        "label name-comp.graphics\n",
        "top 5 are cs\n",
        "top 5 are 3d\n",
        "top 5 are x \n",
        "top 5 are  3\n",
        "top 5 are rk\n",
        "label name-sci.space\n",
        "top 5 are gh\n",
        "top 5 are bi\n",
        "top 5 are pa\n",
        "top 5 are rb\n",
        "top 5 are sp\n",
        "label name-talk.religion.misc\n",
        "top 5 are hy\n",
        "top 5 are ns\n",
        "top 5 are ay\n",
        "top 5 are ov\n",
        "top 5 are hr\n"
       ]
      },
      {
       "metadata": {},
       "output_type": "display_data",
       "png": "[encoded data removed]",
       "text": [
        "<matplotlib.figure.Figure at 0x107b0a8d0>"
       ]
      }
     ],
     "prompt_number": 536
    },
    {
     "cell_type": "markdown",
     "metadata": {},
     "source": [
      "ANSWER: See above. Nohing surprises me in the bigrams."
     ]
    },
    {
     "cell_type": "markdown",
     "metadata": {},
     "source": [
      "(5) Try to improve the logistic regression classifier by passing a custom preprocessor to CountVectorizer. The preprocessing function runs on the raw text, before it is split into words by the tokenizer. Your preprocessor should try to normalize the input in various ways to improve generalization. For example, try lowercasing everything, replacing sequences of numbers with a single token, removing various other non-letter characters, and shortening long words. If you're not already familiar with regular expressions for manipulating strings, see https://docs.python.org/2/library/re.html, and re.sub() in particular. With your new preprocessor, how much did you reduce the size of the dictionary?\n",
      "\n",
      "For reference, I was able to improve dev F1 by 2 points."
     ]
    },
    {
     "cell_type": "code",
     "collapsed": false,
     "input": [
      "\n",
      "def better_preprocessor(s):\n",
      "    #removing everything else other than Alphrabets and convetring to spaces\n",
      "    y=re.sub(r'[^a-zA-Z]',' ',s)\n",
      "    #Shortening the size of words to 5\n",
      "    y1= re.sub(r'\\W*\\b\\w{1,3}\\b', \" \", y)\n",
      "    \n",
      "    \n",
      "    return y1\n",
      "\n",
      "def empty_preprocessor(s):\n",
      "### STUDENT START ###\n",
      "    return s\n",
      "### STUDENT END ###\n",
      "\n",
      "def P5():\n",
      "    \n",
      "### STUDENT START ###\n",
      "    cv=CountVectorizer(preprocessor=empty_preprocessor)\n",
      "    cv.fit(train_data)\n",
      "    z1=cv.transform(train_data)\n",
      "    \n",
      "    z2=cv.transform(dev_data)\n",
      "    \n",
      "    lg=LogisticRegression(C=0.5)\n",
      "    lg.fit(z1,train_labels)\n",
      "    print \"Without Preprocessor, The f1 score is {0}\".format(metrics.f1_score(dev_labels,lg.predict(z2)))\n",
      "    cv=CountVectorizer(preprocessor=better_preprocessor)\n",
      "    cv.fit(train_data)\n",
      "    z1=cv.transform(train_data)\n",
      "    \n",
      "    z2=cv.transform(dev_data)\n",
      "    \n",
      "    lg=LogisticRegression(C=0.5)\n",
      "    lg.fit(z1,train_labels)\n",
      "    print \"With Preprocessor, The f1 score is {0}\".format(metrics.f1_score(dev_labels,lg.predict(z2)))\n",
      "\n",
      "\n",
      "    \n",
      "### STUDENT END ###\n",
      "P5()\n"
     ],
     "language": "python",
     "metadata": {},
     "outputs": [
      {
       "output_type": "stream",
       "stream": "stderr",
       "text": [
        "/Library/Frameworks/Python.framework/Versions/2.7/lib/python2.7/site-packages/sklearn/metrics/classification.py:676: DeprecationWarning: The default `weighted` averaging is deprecated, and from version 0.18, use of precision, recall or F-score with multiclass or multilabel data or pos_label=None will result in an exception. Please set an explicit value for `average`, one of (None, 'micro', 'macro', 'weighted', 'samples'). In cross validation use, for instance, scoring=\"f1_weighted\" instead of scoring=\"f1\".\n",
        "  sample_weight=sample_weight)\n",
        "/Library/Frameworks/Python.framework/Versions/2.7/lib/python2.7/site-packages/sklearn/metrics/classification.py:676: DeprecationWarning: The default `weighted` averaging is deprecated, and from version 0.18, use of precision, recall or F-score with multiclass or multilabel data or pos_label=None will result in an exception. Please set an explicit value for `average`, one of (None, 'micro', 'macro', 'weighted', 'samples'). In cross validation use, for instance, scoring=\"f1_weighted\" instead of scoring=\"f1\".\n",
        "  sample_weight=sample_weight)\n"
       ]
      },
      {
       "output_type": "stream",
       "stream": "stdout",
       "text": [
        "Without Preprocessor, The f1 score is 0.706910918549\n",
        "With Preprocessor, The f1 score is 0.719272369426"
       ]
      },
      {
       "output_type": "stream",
       "stream": "stdout",
       "text": [
        "\n"
       ]
      }
     ],
     "prompt_number": 553
    },
    {
     "cell_type": "markdown",
     "metadata": {},
     "source": [
      "(6) The idea of regularization is to avoid learning very large weights (which are likely to fit the training data, but not generalize well) by adding a penalty to the total size of the learned weights. That is, logistic regression seeks the set of weights that minimizes errors in the training data AND has a small size. The default regularization, L2, computes this size as the sum of the squared weights (see P3, above). L1 regularization computes this size as the sum of the absolute values of the weights. The result is that whereas L2 regularization makes all the weights relatively small, L1 regularization drives lots of the weights to 0, effectively removing unimportant features.\n",
      "\n",
      "Train a logistic regression model using a \"l1\" penalty. Output the number of learned weights that are not equal to zero. How does this compare to the number of non-zero weights you get with \"l2\"? Now, reduce the size of the vocabulary by keeping only those features that have at least one non-zero weight and retrain a model using \"l2\".\n",
      "\n",
      "Make a plot showing accuracy of the re-trained model vs. the vocabulary size you get when pruning unused features by adjusting the C parameter.\n",
      "\n",
      "Note: The gradient descent code that trains the logistic regression model sometimes has trouble converging with extreme settings of the C parameter. Relax the convergence criteria by setting tol=.01 (the default is .0001)."
     ]
    },
    {
     "cell_type": "code",
     "collapsed": false,
     "input": [
      "def P66(c):\n",
      "     # Keep this random seed here to make comparison easier.\n",
      "    y=list()#Scatterplot y axis\n",
      "    x=list() #scatterlot x axis\n",
      "    for c in c:    \n",
      "        lgr=LogisticRegression(penalty='l1',tol=0.01,C=c)\n",
      "        cvr=CountVectorizer()\n",
      "        cvr.fit(train_data)\n",
      "        z1=cvr.transform(train_data)\n",
      "        z2=cvr.transform(dev_data)\n",
      "\n",
      "        lgr.fit(z1,train_labels)\n",
      "        z11=np.where(lgr.coef_!=0)\n",
      "\n",
      "        z11=np.unique(z11[1]).flatten()\n",
      "        x.append(len(z11))\n",
      "        featureLst=cvr.get_feature_names()\n",
      "        vocab = [featureLst[i] for i in z11]\n",
      "        \n",
      "        cvr=CountVectorizer(vocabulary=vocab)\n",
      "        cvr.fit(train_data)\n",
      "        zn1=cvr.transform(train_data)\n",
      "        zn2=cvr.transform(dev_data)\n",
      "        lgr1=LogisticRegression(penalty='l2',tol=0.01,C=c)\n",
      "        lgr1.fit(zn1,train_labels)\n",
      "        nd=lgr1.predict(zn2)\n",
      "        #print metrics.f1_score(dev_labels,nd)\n",
      "        y.append(metrics.accuracy_score(nd,dev_labels))\n",
      "        #break\n",
      "        \n",
      "    plt.scatter(x,y)\n",
      "    plt.show()\n",
      "\n",
      "def P6():\n",
      "    # Keep this random seed here to make comparison easier.\n",
      "    np.random.seed(0)\n",
      "\n",
      "    ### STUDENT START ###\n",
      "    lgr=LogisticRegression(penalty='l1',tol=0.01)\n",
      "    cvr=CountVectorizer()\n",
      "    cvr.fit(train_data)\n",
      "    z1=cvr.transform(train_data)\n",
      "    z2=cvr.transform(dev_data)\n",
      "    \n",
      "    lgr.fit(z1,train_labels)\n",
      "    z11=np.where(lgr.coef_!=0)\n",
      "    \n",
      "    z11=np.unique(z11[1]).flatten() \n",
      "    \n",
      "    print 'number of non zero features using l1 and C=1 is {0}'.format(len(z11))\n",
      "    lgr=LogisticRegression(penalty='l2',tol=0.01)\n",
      "    cvr=CountVectorizer()\n",
      "    cvr.fit(train_data)\n",
      "    z1=cvr.transform(train_data)\n",
      "    z2=cvr.transform(dev_data)\n",
      "    \n",
      "    lgr.fit(z1,train_labels)\n",
      "    z11=np.where(lgr.coef_!=0)\n",
      "    \n",
      "    z11=np.unique(z11[1]).flatten() \n",
      "    print 'For l2 regression, non zero features are {0}'.format(len(z11))\n",
      " \n",
      "\n",
      "    ### STUDENT END ###\n",
      "# Function to print the number of non zero features using l1    \n",
      "P6()    \n",
      "#Setting up values for C parameter\n",
      "c=[i*.01 for i in range(1,10,1)]    \n",
      "d=[i*.1 for i in range(1,20,1)]\n",
      "c.extend(d)\n",
      "#Function to print the graph\n",
      "P66(c)"
     ],
     "language": "python",
     "metadata": {},
     "outputs": [
      {
       "output_type": "stream",
       "stream": "stdout",
       "text": [
        "number of non zero features using l1 and C=1 is 1061\n",
        "For l2 regression, non zero features are 26879"
       ]
      },
      {
       "output_type": "stream",
       "stream": "stdout",
       "text": [
        "\n"
       ]
      },
      {
       "metadata": {},
       "output_type": "display_data",
       "png": "[encoded data removed]",
       "text": [
        "<matplotlib.figure.Figure at 0x10ae58cd0>"
       ]
      }
     ],
     "prompt_number": 540
    },
    {
     "cell_type": "markdown",
     "metadata": {},
     "source": [
      "(7) Use the TfidfVectorizer -- how is this different from the CountVectorizer? Train a logistic regression model with C=100.\n",
      "\n",
      "Make predictions on the dev data and show the top 3 documents where the ratio R is largest, where R is:\n",
      "\n",
      "maximum predicted probability / predicted probability of the correct label\n",
      "\n",
      "What kinds of mistakes is the model making? Suggest a way to address one particular issue that you see."
     ]
    },
    {
     "cell_type": "code",
     "collapsed": false,
     "input": [
      "def P7():\n",
      "### STUDENT START ###\n",
      "    tf=TfidfVectorizer()\n",
      "    tf.fit(train_data)\n",
      "    z1=tf.transform(train_data)\n",
      "    z2=tf.transform(dev_data)\n",
      "    lgr=LogisticRegression(C=100)\n",
      "    lgr.fit(z1,train_labels)\n",
      "    predictions=lgr.predict(z2)\n",
      "    pred_prob=lgr.predict_proba(z2)\n",
      "    nonMatch= np.asarray(np.where(predictions!= dev_labels)).flatten()\n",
      "    topN=pred_prob[nonMatch,predictions[nonMatch]]/pred_prob[nonMatch,dev_labels[nonMatch]]\n",
      "    N= np.argpartition(topN,-3)[-3:]\n",
      "    for i in nonMatch[N]:\n",
      "       \n",
      "        print 'predicted label is {0}'.format(newsgroups_train.target_names[predictions[i]])\n",
      "        print dev_data[i]\n",
      "        \n",
      "        print 'True label is {0}'.format(newsgroups_train.target_names[dev_labels[i]])\n",
      "        \n",
      "      \n",
      "    \n",
      "    #for i,j in zip(lgr.predict(z2), dev_labels):\n",
      "    \n",
      "        \n",
      "        \n",
      "        \n",
      "\n",
      "\n",
      "### STUDENT END ###\n",
      "P7()"
     ],
     "language": "python",
     "metadata": {},
     "outputs": [
      {
       "output_type": "stream",
       "stream": "stdout",
       "text": [
        "607\n",
        "predicted label is talk.religion.misc\n",
        "\n",
        "The 24 children were, of course, killed by a lone gunman in a second story\n",
        "window, who fired eight bullets in the space of two seconds...\n",
        "\n",
        "True label is alt.atheism\n",
        "665\n",
        "predicted label is comp.graphics\n",
        "Can anyone provide me a ftp site where I can obtain a online version\n",
        "of the Book of Mormon. Please email the internet address if possible.\n",
        "True label is talk.religion.misc\n",
        "215\n",
        "predicted label is comp.graphics\n",
        "I am pleased to announce that a *revised version* of _The Easy-to-Read Book\n",
        "of Mormon_ (former title: _Mormon's Book_) by Lynn Matthews Anderson is now\n",
        "available through anonymous ftp (see information below). In addition to the\n",
        "change in title, the revised ETR BOM has been shortened by several pages\n",
        "(eliminating many extraneous \"that's\" and \"of's\"), and many (minor) errors\n",
        "have been corrected. This release includes a simplified Joseph Smith Story,\n",
        "testimonies of the three and eight witnesses, and a \"Words-to-Know\"\n",
        "glossary.\n",
        "\n",
        "As with the previous announcement, readers are reminded that this is a\n",
        "not-for-profit endeavor. This is a copyrighted work, but people are welcome\n",
        "to make *verbatim* copies for personal use. People can recuperate the\n",
        "actual costs of printing (paper, copy center charges), but may not charge\n",
        "anything for their time in making copies, or in any way realize a profit\n",
        "from the use of this book. See the permissions notice in the book itself\n",
        "for the precise terms.\n",
        "\n",
        "Negotiations are currently underway with a Mormon publisher vis-a-vis the\n",
        "printing and distribution of bound books. (Sorry, I'm out of the wire-bound\n",
        "\"first editions.\") I will make another announcement about the availability\n",
        "of printed copies once everything has been worked out.\n",
        "\n",
        "FTP information: connect via anonymous ftp to carnot.itc.cmu.edu, then \"cd\n",
        "pub\" (you won't see anything at all until you do).\n",
        "\n",
        "\"The Easy-to-Read Book of Mormon\" is currently available in postscript and\n",
        "RTF (rich text format). (ASCII, LaTeX, and other versions can be made\n",
        "available; contact dba@andrew.cmu.edu for details.) You should be able to\n",
        "print the postscript file on any postscript printer (such as an Apple\n",
        "Laserwriter); let dba know if you have any difficulties. (The postscript in\n",
        "the last release had problems on some printers; this time it should work\n",
        "better.) RTF is a standard document interchange format that can be read in\n",
        "by a number of word processors, including Microsoft Word for both the\n",
        "Macintosh and Windows. If you don't have a postscript printer, you may be\n",
        "able to use the RTF file to print out a copy of the book.\n",
        "\n",
        "-r--r--r--  1 dba                   1984742 Apr 27 13:12 etrbom.ps\n",
        "-r--r--r--  1 dba                   1209071 Apr 27 13:13 etrbom.rtf\n",
        "\n",
        "For more information about how this project came about, please refer to my\n",
        "article in the current issue of _Sunstone_, entitled \"Delighting in\n",
        "Plainness: Issues Surrounding a Simple Modern English Book of Mormon.\"\n",
        "\n",
        "Send all inquiries and comments to:\n",
        "\n",
        "    Lynn Matthews Anderson\n",
        "    5806 Hampton Street\n",
        "    Pittsburgh, PA 15206\n",
        "True label is talk.religion.misc\n"
       ]
      }
     ],
     "prompt_number": 476
    },
    {
     "cell_type": "markdown",
     "metadata": {},
     "source": [
      "ANSWER:\n",
      "TfIdf vectorizer normalizes the values of the features meaning it will reduce the wightage of commonly occuring words and vice versa."
     ]
    },
    {
     "cell_type": "markdown",
     "metadata": {},
     "source": [
      "(8) EXTRA CREDIT\n",
      "\n",
      "Try implementing one of your ideas based on your error analysis. Use logistic regression as your underlying model.\n",
      "\n",
      "- [1 pt] for a reasonable attempt\n",
      "- [2 pts] for improved performance"
     ]
    }
   ],
   "metadata": {}
  }
 ]
}